{
 "cells": [
  {
   "cell_type": "markdown",
   "id": "a31e15d5-e165-41bf-8021-54cf4bec0654",
   "metadata": {},
   "source": [
    "### Installing Java and Setting up PATH and JAVA_HOME:\n",
    "\n",
    "1. **Download Java Development Kit (JDK):**\n",
    "   - Visit the [Oracle JDK download page](https://www.oracle.com/java/technologies/javase-downloads.html) or [OpenJDK download page](https://openjdk.java.net/install/).\n",
    "   - Download the JDK version suitable for your operating system.\n",
    "\n",
    "2. **Install Java:**\n",
    "   - Follow the installation instructions provided for your operating system.\n",
    "\n",
    "3. **Set up JAVA_HOME:**\n",
    "   - After installation, set the `JAVA_HOME` environment variable to the JDK installation directory.\n",
    "     - On Windows:\n",
    "       - Go to System Properties -> Advanced -> Environment Variables.\n",
    "       - Add a new system variable with the name `JAVA_HOME` and the value as the path to your JDK installation.\n",
    "     - On Linux or macOS:\n",
    "       - Add the following line to your shell profile file (e.g., `.bashrc` or `.zshrc`):\n",
    "         ```bash\n",
    "         export JAVA_HOME=/path/to/your/jdk\n",
    "         export PATH=$JAVA_HOME/bin:$PATH\n",
    "         ```\n",
    "     - Run `source ~/.bashrc` (or `source ~/.zshrc`) to apply the changes.\n",
    "\n",
    "     - On Windows:\n",
    "             - JAVA_HOME= C:\\Program Files\\Java\\jdk-17\\\n",
    "             - PATH = EXISTING_PATH + C:\\Program Files\\Java\\jdk-17\\bin\\\n",
    "         \n",
    "4. **Set up PATH:**\n",
    "   - Add the Java `bin` directory to your system's `PATH` variable.\n",
    "     - On Windows:\n",
    "       - Append the following to the system `PATH` variable:\n",
    "         ```\n",
    "         ;%JAVA_HOME%\\bin\n",
    "         ```\n",
    "     - On Linux or macOS:\n",
    "       - Add the following line to your shell profile file:\n",
    "         ```bash\n",
    "         export PATH=$JAVA_HOME/bin:$PATH\n",
    "         ```\n",
    "       - Run `source ~/.bashrc` (or `source ~/.zshrc`) to apply the changes.\n",
    "\n",
    "\n"
   ]
  },
  {
   "cell_type": "markdown",
   "id": "33512534-6385-4d4c-9d32-badd90f0d898",
   "metadata": {},
   "source": [
    "### Installing Python:\n",
    "\n",
    "1. **Download and Install Python:**\n",
    "   - Visit the [official Python download page](https://www.python.org/downloads/).\n",
    "   - Download the latest version of Python.\n",
    "   - During installation, make sure to check the option to add Python to the system PATH.\n",
    "\n",
    "2. **Verify Python Installation:**\n",
    "   - Open a command prompt or terminal and run:\n",
    "     ```bash\n",
    "     python --version\n",
    "     ```\n"
   ]
  },
  {
   "cell_type": "markdown",
   "id": "35bc5192-44ec-4d1b-b768-2d3d2bd09bc9",
   "metadata": {},
   "source": [
    "### Installing Jupyter Lab:\n",
    "\n",
    "1. **Install Jupyter Lab:**\n",
    "   - Open a command prompt or terminal.\n",
    "   - Run the following command:\n",
    "     ```bash\n",
    "     pip install jupyterlab\n",
    "     ```\n",
    "\n",
    "2. **Start Jupyter Lab:**\n",
    "   - Run the following command in the terminal:\n",
    "     ```bash\n",
    "     jupyter lab\n",
    "     ```\n",
    "   - This will open Jupyter Lab in your default web browser."
   ]
  },
  {
   "cell_type": "markdown",
   "id": "75b5e788-dc90-4cd5-bc97-a58d421f51ed",
   "metadata": {},
   "source": [
    "### Installing PySpark:\n",
    "\n",
    "1. **Install PySpark:**\n",
    "   - Run the following command to install PySpark using pip:\n",
    "     ```bash\n",
    "     pip install pyspark\n",
    "     ```\n",
    "\n",
    "2. **Configure PySpark in Jupyter Lab:**\n",
    "   - Create a Jupyter notebook or open an existing one.\n",
    "   - In a notebook cell, add the following code to configure PySpark:\n",
    "     ```python\n",
    "     from pyspark.sql import SparkSession\n",
    "\n",
    "     spark = SparkSession.builder \\\n",
    "         .appName(\"example-app\") \\\n",
    "         .config(\"spark.some.config.option\", \"some-value\") \\\n",
    "         .getOrCreate()\n",
    "     ```\n",
    "\n",
    "   - Run the cell to initialize the Spark session."
   ]
  }
 ],
 "metadata": {
  "kernelspec": {
   "display_name": "Python 3 (ipykernel)",
   "language": "python",
   "name": "python3"
  },
  "language_info": {
   "codemirror_mode": {
    "name": "ipython",
    "version": 3
   },
   "file_extension": ".py",
   "mimetype": "text/x-python",
   "name": "python",
   "nbconvert_exporter": "python",
   "pygments_lexer": "ipython3",
   "version": "3.12.1"
  }
 },
 "nbformat": 4,
 "nbformat_minor": 5
}
