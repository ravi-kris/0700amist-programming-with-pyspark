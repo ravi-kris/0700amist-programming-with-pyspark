{
 "cells": [
  {
   "attachments": {
    "ec499e0d-d4bc-4e3a-81a1-2a405c4b5de7.png": {
     "image/png": "[encoded data removed]"
    }
   },
   "cell_type": "markdown",
   "id": "ce6e9f13-6bca-4c43-945a-6e25041d2399",
   "metadata": {},
   "source": [
    "# What are DataFrames in PySpark:\n",
    "\n",
    "  - DataFrames are a distributed collection of data organized into named columns, similar to a table in a relational database.\n",
    "  - They are part of the higher-level API provided by PySpark's `pyspark.sql` module.\n",
    "  - DataFrames are immutable and follow lazy evaluation, meaning transformations are not executed until an action is called.\n",
    "  - DataFrames support a wide range of data sources, including CSV, Parquet, JSON, ORC, Avro, Hive, JDBC, and more.\n",
    "\n",
    "![DataFrames.png](attachment:ec499e0d-d4bc-4e3a-81a1-2a405c4b5de7.png)\n",
    "### **Creating DataFrames:**\n",
    "  - DataFrames can be created from various data sources, such as RDDs, Python lists, Pandas DataFrames, and external files (CSV, JSON, etc.).\n",
    "  - To create a DataFrame, you typically use the `spark.createDataFrame()` method.\n",
    "\n",
    "### **DataFrames Operations:**\n",
    "  - DataFrame operations can be broadly categorized into transformations and actions.\n",
    "  - Transformations (e.g., `select`, `filter`, `groupBy`) create a new DataFrame from an existing one without executing immediately.\n",
    "  - Actions (e.g., `show`, `count`, `collect`) trigger the execution and return results or display data.\n",
    "\n",
    "### **Schema:**\n",
    "  - DataFrames have a defined schema, which specifies the names and data types of the columns.\n",
    "  - Schema inference automatically determines the schema when reading from files, but you can also define it explicitly.\n",
    "\n",
    "### **Data Manipulation:**\n",
    "  - DataFrame provides various methods for data manipulation, such as `select`, `filter`, `groupBy`, `orderBy`, `withColumn`, `drop`, and more.\n",
    "  - Operations can be chained together to create complex data processing pipelines.\n",
    "\n",
    "### **Aggregation and Grouping:**\n",
    "  - DataFrame supports aggregation operations like `avg`, `sum`, `min`, `max`, `count`, etc., which can be applied after grouping using `groupBy`.\n",
    "\n",
    "### **SQL-Like Queries:**\n",
    "  - DataFrames can be queried using SQL-like syntax using SparkSQL, enabling users familiar with SQL to perform data analysis.\n",
    "\n",
    "### **Broadcast and Join Optimization:**\n",
    "  - DataFrames automatically optimize joins and broadcasts small DataFrames to reduce shuffle overhead in join operations.\n",
    "\n",
    "### **Built-in Functions:**\n",
    "  - PySpark provides a rich set of built-in functions (`pyspark.sql.functions`) for data manipulation, aggregation, string operations, date/time handling, and more.\n",
    "\n",
    "### **Integration with MLlib and GraphX:**\n",
    "  - DataFrames can be seamlessly integrated with Spark's MLlib (Machine Learning) and GraphX (Graph Processing) libraries for advanced analytics.\n",
    "\n",
    "### **Performance Optimization:**\n",
    "  - PySpark provides various options to optimize DataFrame performance, like tuning memory configurations, adjusting parallelism, and using data partitioning.\n",
    "\n",
    "### **Data Sources and Formats:**\n",
    "  - DataFrames can read and write data from/to various sources like HDFS, cloud storage, and databases, supporting various formats like Parquet, ORC, Avro, etc.\n",
    "\n",
    "### **Dynamic Partition Pruning:**\n",
    "  - DataFrames can dynamically prune partitions when reading data, which improves performance in certain scenarios.\n",
    "\n",
    "DataFrames in PySpark offer a higher-level API for working with structured data, allowing users to focus on data manipulation and analysis without dealing with low-level distributed computing complexities."
   ]
  },
  {
   "cell_type": "code",
   "execution_count": 1,
   "id": "ddbe1f24-4e2a-4acd-960e-79cff32e10c4",
   "metadata": {},
   "outputs": [],
   "source": [
    "from pyspark.sql import SparkSession\n",
    "\n",
    "spark = SparkSession.builder.getOrCreate()"
   ]
  },
  {
   "cell_type": "code",
   "execution_count": 2,
   "id": "2681f833-8cef-4c80-9872-de824e6753d9",
   "metadata": {},
   "outputs": [
    {
     "data": {
      "text/html": [
       "\n",
       "            <div>\n",
       "                <p><b>SparkSession - in-memory</b></p>\n",
       "                \n",
       "        <div>\n",
       "            <p><b>SparkContext</b></p>\n",
       "\n",
       "            <p><a href=\"http://192.168.0.24:4040\">Spark UI</a></p>\n",
       "\n",
       "            <dl>\n",
       "              <dt>Version</dt>\n",
       "                <dd><code>v3.5.0</code></dd>\n",
       "              <dt>Master</dt>\n",
       "                <dd><code>local[*]</code></dd>\n",
       "              <dt>AppName</dt>\n",
       "                <dd><code>pyspark-shell</code></dd>\n",
       "            </dl>\n",
       "        </div>\n",
       "        \n",
       "            </div>\n",
       "        "
      ],
      "text/plain": [
       "<pyspark.sql.session.SparkSession at 0x2799390a5a0>"
      ]
     },
     "execution_count": 2,
     "metadata": {},
     "output_type": "execute_result"
    }
   ],
   "source": [
    "spark"
   ]
  },
  {
   "cell_type": "code",
   "execution_count": 4,
   "id": "0ccb5ad3-6066-4a0f-9190-78244c8d1da8",
   "metadata": {},
   "outputs": [
    {
     "ename": "NameError",
     "evalue": "name 'empDF' is not defined",
     "output_type": "error",
     "traceback": [
      "\u001b[1;31m---------------------------------------------------------------------------\u001b[0m",
      "\u001b[1;31mNameError\u001b[0m                                 Traceback (most recent call last)",
      "Cell \u001b[1;32mIn[4], line 1\u001b[0m\n\u001b[1;32m----> 1\u001b[0m \u001b[43mempDF\u001b[49m\n",
      "\u001b[1;31mNameError\u001b[0m: name 'empDF' is not defined"
     ]
    }
   ],
   "source": [
    "empDF"
   ]
  },
  {
   "cell_type": "code",
   "execution_count": 5,
   "id": "c71e56e0-f18a-4aa1-a5df-9439144229f3",
   "metadata": {},
   "outputs": [
    {
     "ename": "NameError",
     "evalue": "name 'empDF' is not defined",
     "output_type": "error",
     "traceback": [
      "\u001b[1;31m---------------------------------------------------------------------------\u001b[0m",
      "\u001b[1;31mNameError\u001b[0m                                 Traceback (most recent call last)",
      "Cell \u001b[1;32mIn[5], line 1\u001b[0m\n\u001b[1;32m----> 1\u001b[0m \u001b[38;5;28mprint\u001b[39m(\u001b[38;5;28mtype\u001b[39m(\u001b[43mempDF\u001b[49m))\n",
      "\u001b[1;31mNameError\u001b[0m: name 'empDF' is not defined"
     ]
    }
   ],
   "source": [
    "print(type(empDF))"
   ]
  },
  {
   "cell_type": "code",
   "execution_count": 3,
   "id": "2ec7c12f-840b-4c21-b9c4-e97a661e64fa",
   "metadata": {},
   "outputs": [],
   "source": [
    "empDF = spark.read.csv(\"data/emp.csv\")"
   ]
  },
  {
   "cell_type": "code",
   "execution_count": 4,
   "id": "9b9c19f5-fb21-4c4c-9533-cd2d994bf535",
   "metadata": {},
   "outputs": [
    {
     "name": "stdout",
     "output_type": "stream",
     "text": [
      "<class 'pyspark.sql.dataframe.DataFrame'>\n"
     ]
    }
   ],
   "source": [
    "print(type(empDF))"
   ]
  },
  {
   "cell_type": "code",
   "execution_count": 8,
   "id": "11d7e2fb-0a64-490a-9ebc-159190e60c8f",
   "metadata": {},
   "outputs": [
    {
     "name": "stdout",
     "output_type": "stream",
     "text": [
      "+------+----------+-----------------+----------+--------------+-------------+-------------+\n",
      "|   _c0|       _c1|              _c2|       _c3|           _c4|          _c5|          _c6|\n",
      "+------+----------+-----------------+----------+--------------+-------------+-------------+\n",
      "|emp_id|  emp_name|  emp_designation|emp_salary|emp_department|emp_join_date| emp_location|\n",
      "|   101|John Smith|Software Engineer|     75000|            IT|   15-01-2022|     New York|\n",
      "|   102|  Jane Doe|     Data Analyst|     60000|     Analytics|   20-08-2021|San Francisco|\n",
      "|   103|Mike Brown|  Product Manager|     90000|       Product|   10-05-2023|       London|\n",
      "|   104|Lisa Green|       HR Manager|     85000|            HR|   05-11-2020|         NULL|\n",
      "+------+----------+-----------------+----------+--------------+-------------+-------------+\n",
      "\n"
     ]
    }
   ],
   "source": [
    "empDF.show()"
   ]
  }
 ],
 "metadata": {
  "kernelspec": {
   "display_name": "Python 3 (ipykernel)",
   "language": "python",
   "name": "python3"
  },
  "language_info": {
   "codemirror_mode": {
    "name": "ipython",
    "version": 3
   },
   "file_extension": ".py",
   "mimetype": "text/x-python",
   "name": "python",
   "nbconvert_exporter": "python",
   "pygments_lexer": "ipython3",
   "version": "3.12.1"
  }
 },
 "nbformat": 4,
 "nbformat_minor": 5
}
