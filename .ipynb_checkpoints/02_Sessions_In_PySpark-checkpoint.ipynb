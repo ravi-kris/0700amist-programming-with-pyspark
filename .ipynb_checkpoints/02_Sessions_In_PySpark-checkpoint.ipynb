{
 "cells": [
  {
   "cell_type": "markdown",
   "metadata": {},
   "source": [
    "# What is PySpark Session?\n",
    "    - A session in PySpark serves as the entry point for utilizing Spark functionality.\n",
    "    - The SparkSession is the initial object created when working with PySpark.\n",
    "    - It facilitates structured and controlled interaction with Spark's features.\n",
    "    - SparkSession enables users to perform various data processing and analytics tasks using Spark's capabilities.\n",
    "\n"
   ]
  },
  {
   "cell_type": "markdown",
   "metadata": {},
   "source": [
    "### 1. **Creation of SparkSession:**\n",
    "    - To create a SparkSession in PySpark, you can use the `SparkSession.builder` API, which follows the Builder design pattern. \n",
    "    - You can customize the session configuration using various methods provided by the builder.\n",
    "    - In this example, we create a SparkSession named \"MyPySparkApp\" and configure it with a specific Spark configuration option."
   ]
  },
  {
   "cell_type": "code",
   "execution_count": null,
   "metadata": {},
   "outputs": [],
   "source": [
    "from pyspark.sql import SparkSession\n",
    "\n",
    "   # Create a SparkSession\n",
    "spark = SparkSession.builder.appName(\"MyPySparkApp\").config(\"spark.some.config.option\", \"config-value\").getOrCreate()\n"
   ]
  },
  {
   "cell_type": "code",
   "execution_count": 1,
   "metadata": {},
   "outputs": [
    {
     "ename": "NameError",
     "evalue": "name 'spark' is not defined",
     "output_type": "error",
     "traceback": [
      "\u001b[1;31m---------------------------------------------------------------------------\u001b[0m",
      "\u001b[1;31mNameError\u001b[0m                                 Traceback (most recent call last)",
      "Cell \u001b[1;32mIn[1], line 1\u001b[0m\n\u001b[1;32m----> 1\u001b[0m \u001b[43mspark\u001b[49m\n",
      "\u001b[1;31mNameError\u001b[0m: name 'spark' is not defined"
     ]
    }
   ],
   "source": [
    "spark"
   ]
  },
  {
   "cell_type": "markdown",
   "metadata": {},
   "source": [
    "### 2. **Lazy Initialization:**\n",
    "    - SparkSession follows the concept of lazy initialization.\n",
    "    - It means that Spark operations are not executed until an action is triggered. \n",
    "    - Actions, like `show()`, `count()`, or `write`, force Spark to perform the computations that were defined using transformations. \n",
    "    - This lazy evaluation optimizes the execution plan and helps improve performance by avoiding unnecessary computations."
   ]
  },
  {
   "cell_type": "markdown",
   "metadata": {},
   "source": [
    "### 3. **Spark Context:**\n",
    "    - SparkSession internally encapsulates a SparkContext (accessed via `spark.sparkContext`), which is the entry point for low-level Spark functionality. \n",
    "    - The SparkContext represents the connection to a Spark cluster and allows you to control the job execution, manage resources, and communicate with the cluster.\n"
   ]
  },
  {
   "cell_type": "markdown",
   "metadata": {},
   "source": [
    "### 4. **Stopping the SparkSession:**\n",
    "    - When you are done working with Spark, it's essential to stop the SparkSession to release the resources associated with it and gracefully terminate the Spark application.\n"
   ]
  },
  {
   "cell_type": "code",
   "execution_count": null,
   "metadata": {},
   "outputs": [],
   "source": [
    "# Stop the SparkSession\n",
    "spark.stop()"
   ]
  }
 ],
 "metadata": {
  "kernelspec": {
   "display_name": "Python 3 (ipykernel)",
   "language": "python",
   "name": "python3"
  },
  "language_info": {
   "codemirror_mode": {
    "name": "ipython",
    "version": 3
   },
   "file_extension": ".py",
   "mimetype": "text/x-python",
   "name": "python",
   "nbconvert_exporter": "python",
   "pygments_lexer": "ipython3",
   "version": "3.12.1"
  }
 },
 "nbformat": 4,
 "nbformat_minor": 4
}
