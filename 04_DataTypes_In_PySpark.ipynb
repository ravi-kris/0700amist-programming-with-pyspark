{
 "cells": [
  {
   "cell_type": "markdown",
   "metadata": {
    "application/vnd.databricks.v1+cell": {
     "cellMetadata": {},
     "inputWidgets": {},
     "nuid": "32bd1a73-aeab-4c73-adb2-2692839a9655",
     "showTitle": false,
     "title": ""
    }
   },
   "source": [
    "# DataTypes in PySpark\n",
    "    - In PySpark, data types represent the type of data stored in a DataFrame or a distributed dataset (RDD)\n",
    "    \n",
    "    - PySpark provides several built-in data types that are similar to those in Python, but they are specifically designed to work in a distributed computing environment\n",
    "    \n",
    "    - These data types are part of the `pyspark.sql.types` module"
   ]
  },
  {
   "cell_type": "code",
   "execution_count": 0,
   "metadata": {
    "application/vnd.databricks.v1+cell": {
     "cellMetadata": {},
     "inputWidgets": {},
     "nuid": "1309ec35-a674-4031-b836-129226270902",
     "showTitle": false,
     "title": ""
    }
   },
   "outputs": [],
   "source": [
    "#Import Spark Packges \n",
    "from pyspark.sql import SparkSession\n",
    "spark = SparkSession.builder.getOrCreate()"
   ]
  },
  {
   "cell_type": "markdown",
   "metadata": {
    "application/vnd.databricks.v1+cell": {
     "cellMetadata": {},
     "inputWidgets": {},
     "nuid": "dbe374d8-c6d7-49ef-b211-cb0a402ab6ea",
     "showTitle": false,
     "title": ""
    }
   },
   "source": [
    "# 1. StringType:\n",
    "   - Represents text or string data."
   ]
  },
  {
   "cell_type": "code",
   "execution_count": 0,
   "metadata": {
    "application/vnd.databricks.v1+cell": {
     "cellMetadata": {},
     "inputWidgets": {},
     "nuid": "d4610e23-1d8b-4c1d-a30a-71d20e9acda0",
     "showTitle": false,
     "title": ""
    }
   },
   "outputs": [],
   "source": [
    "data = [(\"Alice\",), (\"Bob\",), (\"Charlie\",)]"
   ]
  },
  {
   "cell_type": "code",
   "execution_count": 0,
   "metadata": {
    "application/vnd.databricks.v1+cell": {
     "cellMetadata": {},
     "inputWidgets": {},
     "nuid": "d9e55ade-6c76-4c2f-a260-39457fb86784",
     "showTitle": false,
     "title": ""
    }
   },
   "outputs": [],
   "source": [
    "df = spark.createDataFrame(data, [\"Name\"])"
   ]
  },
  {
   "cell_type": "code",
   "execution_count": 0,
   "metadata": {
    "application/vnd.databricks.v1+cell": {
     "cellMetadata": {},
     "inputWidgets": {},
     "nuid": "22cdc7fb-7e19-4570-86f0-3be5471824e8",
     "showTitle": false,
     "title": ""
    }
   },
   "outputs": [],
   "source": [
    "df.show()"
   ]
  },
  {
   "cell_type": "markdown",
   "metadata": {
    "application/vnd.databricks.v1+cell": {
     "cellMetadata": {},
     "inputWidgets": {},
     "nuid": "5699a4ff-b9ed-4870-8104-9c0230e859cd",
     "showTitle": false,
     "title": ""
    }
   },
   "source": [
    "# 2. IntegerType:\n",
    "   - Represents integer values"
   ]
  },
  {
   "cell_type": "code",
   "execution_count": 0,
   "metadata": {
    "application/vnd.databricks.v1+cell": {
     "cellMetadata": {},
     "inputWidgets": {},
     "nuid": "97722a7e-458a-4871-8e28-1fe9e9403212",
     "showTitle": false,
     "title": ""
    }
   },
   "outputs": [],
   "source": [
    "data = [(25,), (30,), (22,)]\n",
    "df = spark.createDataFrame(data, [\"Age\"])\n",
    "df.show()"
   ]
  },
  {
   "cell_type": "markdown",
   "metadata": {
    "application/vnd.databricks.v1+cell": {
     "cellMetadata": {},
     "inputWidgets": {},
     "nuid": "8c4bdee7-ddf2-4ce8-886c-d10a79ed3f61",
     "showTitle": false,
     "title": ""
    }
   },
   "source": [
    "# 3. DoubleType:\n",
    "   - Represents floating-point or double-precision numbers"
   ]
  },
  {
   "cell_type": "code",
   "execution_count": 0,
   "metadata": {
    "application/vnd.databricks.v1+cell": {
     "cellMetadata": {},
     "inputWidgets": {},
     "nuid": "ec5e45c1-34c6-4f8b-b9d4-e8018cf0ee82",
     "showTitle": false,
     "title": ""
    }
   },
   "outputs": [],
   "source": [
    "data = [(3.14,), (2.718,), (1.618,)]\n",
    "df = spark.createDataFrame(data, [\"Value\"])\n",
    "df.show()"
   ]
  },
  {
   "cell_type": "markdown",
   "metadata": {
    "application/vnd.databricks.v1+cell": {
     "cellMetadata": {},
     "inputWidgets": {},
     "nuid": "a87214f0-3f52-4779-a073-0b2ef9644066",
     "showTitle": false,
     "title": ""
    }
   },
   "source": [
    "# 4. BooleanType:\n",
    "   - Represents Boolean values (True or False)"
   ]
  },
  {
   "cell_type": "code",
   "execution_count": 0,
   "metadata": {
    "application/vnd.databricks.v1+cell": {
     "cellMetadata": {},
     "inputWidgets": {},
     "nuid": "bdb14c9f-fe61-466e-8458-9a131951ad31",
     "showTitle": false,
     "title": ""
    }
   },
   "outputs": [],
   "source": [
    "data = [(True,), (False,), (True,)]\n",
    "df = spark.createDataFrame(data, [\"IsMarried\"])\n",
    "df.show()"
   ]
  },
  {
   "cell_type": "markdown",
   "metadata": {
    "application/vnd.databricks.v1+cell": {
     "cellMetadata": {},
     "inputWidgets": {},
     "nuid": "18f5f2d0-a719-40d8-80e3-1edfa69daef9",
     "showTitle": false,
     "title": ""
    }
   },
   "source": [
    "# 5. DateType:\n",
    "   - Represents date values."
   ]
  },
  {
   "cell_type": "code",
   "execution_count": 0,
   "metadata": {
    "application/vnd.databricks.v1+cell": {
     "cellMetadata": {},
     "inputWidgets": {},
     "nuid": "32df1655-8de5-4afb-a95c-9c779ff0b1c6",
     "showTitle": false,
     "title": ""
    }
   },
   "outputs": [],
   "source": [
    "from pyspark.sql.functions import to_date\n",
    "spark = SparkSession.builder.appName(\"DateDataType\").getOrCreate()\n",
    "data = [(\"2022-01-15\",), (\"2023-03-20\",), (\"2021-11-05\",)]\n",
    "df = spark.createDataFrame(data, [\"Date\"])\n",
    "df = df.withColumn(\"Date\", to_date(df[\"Date\"]))\n",
    "df.show()"
   ]
  },
  {
   "cell_type": "markdown",
   "metadata": {
    "application/vnd.databricks.v1+cell": {
     "cellMetadata": {},
     "inputWidgets": {},
     "nuid": "2384d8c3-28b0-4506-9653-a229556c8464",
     "showTitle": false,
     "title": ""
    }
   },
   "source": [
    "# 6. TimestampType:\n",
    "   - Represents timestamp values with date and time."
   ]
  },
  {
   "cell_type": "code",
   "execution_count": 0,
   "metadata": {
    "application/vnd.databricks.v1+cell": {
     "cellMetadata": {},
     "inputWidgets": {},
     "nuid": "9589aea9-f021-4880-adc2-a64cc5258259",
     "showTitle": false,
     "title": ""
    }
   },
   "outputs": [],
   "source": [
    "data = [(\"2022-01-15 14:30:00\",), (\"2023-03-20 09:45:00\",), (\"2021-11-05 18:15:00\",)]\n",
    "df = spark.createDataFrame(data, [\"Timestamp\"])\n",
    "df.show()"
   ]
  },
  {
   "cell_type": "markdown",
   "metadata": {
    "application/vnd.databricks.v1+cell": {
     "cellMetadata": {},
     "inputWidgets": {},
     "nuid": "96c26604-917c-4738-86ae-2ae66693b713",
     "showTitle": false,
     "title": ""
    }
   },
   "source": [
    "# 7. ArrayType:\n",
    "   - Represents arrays or lists of values"
   ]
  },
  {
   "cell_type": "code",
   "execution_count": 0,
   "metadata": {
    "application/vnd.databricks.v1+cell": {
     "cellMetadata": {},
     "inputWidgets": {},
     "nuid": "20362d64-19a0-419a-8573-923743be20f5",
     "showTitle": false,
     "title": ""
    }
   },
   "outputs": [],
   "source": [
    "from pyspark.sql.functions import split\n",
    "\n",
    "data = [(\"1,2,3\",), (\"4,5\",), (\"6\",)]\n",
    "df = spark.createDataFrame(data, [\"Values\"])\n",
    "df = df.withColumn(\"Values\", split(df[\"Values\"], \",\"))\n",
    "df.show()"
   ]
  },
  {
   "cell_type": "markdown",
   "metadata": {
    "application/vnd.databricks.v1+cell": {
     "cellMetadata": {},
     "inputWidgets": {},
     "nuid": "d106b905-8074-4fb5-b6d0-534c5004e284",
     "showTitle": false,
     "title": ""
    }
   },
   "source": [
    "# 8. MapType:\n",
    "   - Represents key-value pairs or dictionaries"
   ]
  },
  {
   "cell_type": "code",
   "execution_count": 0,
   "metadata": {
    "application/vnd.databricks.v1+cell": {
     "cellMetadata": {},
     "inputWidgets": {},
     "nuid": "e5ff7039-d4da-4269-b18d-40b45ee44781",
     "showTitle": false,
     "title": ""
    }
   },
   "outputs": [],
   "source": [
    "data = [({\"Name\": \"Alice\", \"Age\": 25},), ({\"Name\": \"Bob\", \"Age\": 30},), ({\"Name\": \"Charlie\", \"Age\": 22},)]\n",
    "df = spark.createDataFrame(data, [\"Info\"])\n",
    "df.show()"
   ]
  }
 ],
 "metadata": {
  "application/vnd.databricks.v1+notebook": {
   "dashboards": [],
   "language": "python",
   "notebookMetadata": {
    "pythonIndentUnit": 4
   },
   "notebookName": "04_DataTypes_In_PySpark",
   "widgets": {}
  },
  "kernelspec": {
   "display_name": "Python 3 (ipykernel)",
   "language": "python",
   "name": "python3"
  },
  "language_info": {
   "codemirror_mode": {
    "name": "ipython",
    "version": 3
   },
   "file_extension": ".py",
   "mimetype": "text/x-python",
   "name": "python",
   "nbconvert_exporter": "python",
   "pygments_lexer": "ipython3",
   "version": "3.12.1"
  }
 },
 "nbformat": 4,
 "nbformat_minor": 0
}
