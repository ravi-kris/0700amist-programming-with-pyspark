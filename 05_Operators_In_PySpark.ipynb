{
 "cells": [
  {
   "cell_type": "markdown",
   "metadata": {},
   "source": [
    "# Operators in PySpark\n",
    "\n",
    "### **select():** \n",
    "Projects specific columns from a DataFrame.\n",
    "\n",
    "### **filter():** \n",
    "Filters rows based on a condition.\n",
    "\n",
    "### **groupBy():** \n",
    "Groups data based on specific columns.\n",
    "\n",
    "### **agg():** \n",
    "Performs aggregate functions on grouped data.\n",
    "\n",
    "### **orderBy():** \n",
    "Sorts the DataFrame based on specified columns.\n",
    "\n",
    "### **withColumn():** \n",
    "Adds a new column or replaces an existing one.\n",
    "\n",
    "### **drop():** \n",
    "Removes one or more columns from the DataFrame.\n",
    "\n",
    "### **distinct():** \n",
    "Returns distinct rows from the DataFrame.\n",
    "\n",
    "### **dropDuplicates():** \n",
    "Drops duplicate rows from the DataFrame.\n",
    "\n",
    "### **limit():** \n",
    "Limits the number of rows in the DataFrame."
   ]
  },
  {
   "cell_type": "code",
   "execution_count": 1,
   "metadata": {},
   "outputs": [],
   "source": [
    "#Import Spark Packges \n",
    "from pyspark.sql import SparkSession"
   ]
  },
  {
   "cell_type": "code",
   "execution_count": 2,
   "metadata": {},
   "outputs": [],
   "source": [
    "#Build an Spark Session\n",
    "spark = SparkSession.builder.getOrCreate()"
   ]
  },
  {
   "cell_type": "code",
   "execution_count": 3,
   "metadata": {},
   "outputs": [
    {
     "data": {
      "text/html": [
       "\n",
       "            <div>\n",
       "                <p><b>SparkSession - in-memory</b></p>\n",
       "                \n",
       "        <div>\n",
       "            <p><b>SparkContext</b></p>\n",
       "\n",
       "            <p><a href=\"http://kumaran-laptop:4041\">Spark UI</a></p>\n",
       "\n",
       "            <dl>\n",
       "              <dt>Version</dt>\n",
       "                <dd><code>v3.5.0</code></dd>\n",
       "              <dt>Master</dt>\n",
       "                <dd><code>local[*]</code></dd>\n",
       "              <dt>AppName</dt>\n",
       "                <dd><code>pyspark-shell</code></dd>\n",
       "            </dl>\n",
       "        </div>\n",
       "        \n",
       "            </div>\n",
       "        "
      ],
      "text/plain": [
       "<pyspark.sql.session.SparkSession at 0x244d90c3e30>"
      ]
     },
     "execution_count": 3,
     "metadata": {},
     "output_type": "execute_result"
    }
   ],
   "source": [
    "spark"
   ]
  },
  {
   "cell_type": "code",
   "execution_count": 4,
   "metadata": {},
   "outputs": [
    {
     "name": "stdout",
     "output_type": "stream",
     "text": [
      "+------+----------+-----------------+----------+--------------+-------------+-------------+\n",
      "|emp_id|  emp_name|  emp_designation|emp_salary|emp_department|emp_join_date| emp_location|\n",
      "+------+----------+-----------------+----------+--------------+-------------+-------------+\n",
      "|   101|John Smith|Software Engineer|     75000|            IT|   15-01-2022|     New York|\n",
      "|   102|  Jane Doe|     Data Analyst|     60000|     Analytics|   20-08-2021|San Francisco|\n",
      "|   103|Mike Brown|  Product Manager|     90000|       Product|   10-05-2023|       London|\n",
      "|   104|Lisa Green|       HR Manager|     85000|            HR|   05-11-2020|         NULL|\n",
      "+------+----------+-----------------+----------+--------------+-------------+-------------+\n",
      "\n"
     ]
    }
   ],
   "source": [
    "# Using a DataFrame Object from Spark\n",
    "df=spark.read.csv('data/emp.csv',header='True',inferSchema=True)\n",
    "df.show()"
   ]
  },
  {
   "cell_type": "code",
   "execution_count": 5,
   "metadata": {},
   "outputs": [],
   "source": [
    "empDF = spark.read.csv('data/emp.csv',header='True',inferSchema='True')"
   ]
  },
  {
   "cell_type": "code",
   "execution_count": 6,
   "metadata": {},
   "outputs": [
    {
     "data": {
      "text/plain": [
       "DataFrame[emp_id: int, emp_name: string, emp_designation: string, emp_salary: int, emp_department: string, emp_join_date: string, emp_location: string]"
      ]
     },
     "execution_count": 6,
     "metadata": {},
     "output_type": "execute_result"
    }
   ],
   "source": [
    "empDF"
   ]
  },
  {
   "cell_type": "code",
   "execution_count": 7,
   "metadata": {},
   "outputs": [
    {
     "name": "stdout",
     "output_type": "stream",
     "text": [
      "The Type of object <class 'pyspark.sql.dataframe.DataFrame'>\n"
     ]
    }
   ],
   "source": [
    "print(\"The Type of object\",type(empDF))"
   ]
  },
  {
   "cell_type": "code",
   "execution_count": 18,
   "metadata": {},
   "outputs": [
    {
     "name": "stdout",
     "output_type": "stream",
     "text": [
      "+------+----------+-----------------+----------+--------------+-------------+-------------+\n",
      "|emp_id|  emp_name|  emp_designation|emp_salary|emp_department|emp_join_date| emp_location|\n",
      "+------+----------+-----------------+----------+--------------+-------------+-------------+\n",
      "|   101|John Smith|Software Engineer|     75000|            IT|   15-01-2022|     New York|\n",
      "|   102|  Jane Doe|     Data Analyst|     60000|     Analytics|   20-08-2021|San Francisco|\n",
      "|   103|Mike Brown|  Product Manager|     90000|       Product|   10-05-2023|       London|\n",
      "|   104|Lisa Green|       HR Manager|     85000|            HR|   05-11-2020|         null|\n",
      "+------+----------+-----------------+----------+--------------+-------------+-------------+\n",
      "\n"
     ]
    }
   ],
   "source": [
    "empDF.show()"
   ]
  },
  {
   "cell_type": "code",
   "execution_count": 21,
   "metadata": {},
   "outputs": [],
   "source": [
    "empDF = spark.read.csv('data/emp.csv',header='True',inferSchema='True')\n",
    "#empDF = spark.read.csv('data/emp.csv',header='True')"
   ]
  },
  {
   "cell_type": "code",
   "execution_count": 22,
   "metadata": {},
   "outputs": [
    {
     "data": {
      "text/plain": [
       "DataFrame[emp_id: int, emp_name: string, emp_designation: string, emp_salary: int, emp_department: string, emp_join_date: string, emp_location: string]"
      ]
     },
     "execution_count": 22,
     "metadata": {},
     "output_type": "execute_result"
    }
   ],
   "source": [
    "empDF"
   ]
  },
  {
   "cell_type": "markdown",
   "metadata": {},
   "source": [
    "# 1. select() Operator:   \n",
    "The `select()` operator is used to project specific columns from a DataFrame.\n",
    "Selecting specific columns from the DataFrame"
   ]
  },
  {
   "cell_type": "code",
   "execution_count": 8,
   "metadata": {},
   "outputs": [
    {
     "name": "stdout",
     "output_type": "stream",
     "text": [
      "+----------+--------------+\n",
      "|  emp_name|emp_department|\n",
      "+----------+--------------+\n",
      "|John Smith|            IT|\n",
      "|  Jane Doe|     Analytics|\n",
      "|Mike Brown|       Product|\n",
      "|Lisa Green|            HR|\n",
      "+----------+--------------+\n",
      "\n"
     ]
    }
   ],
   "source": [
    "selected_df = df.select(\"emp_name\", \"emp_department\")\n",
    "\n",
    "selected_df.show()"
   ]
  },
  {
   "cell_type": "code",
   "execution_count": 9,
   "metadata": {},
   "outputs": [],
   "source": [
    "select_empDF = empDF.select(\"emp_name\",\"emp_department\",\"emp_salary\")"
   ]
  },
  {
   "cell_type": "code",
   "execution_count": 10,
   "metadata": {},
   "outputs": [
    {
     "name": "stdout",
     "output_type": "stream",
     "text": [
      "<class 'pyspark.sql.dataframe.DataFrame'>\n"
     ]
    }
   ],
   "source": [
    "print(type(select_empDF))"
   ]
  },
  {
   "cell_type": "code",
   "execution_count": 11,
   "metadata": {},
   "outputs": [
    {
     "name": "stdout",
     "output_type": "stream",
     "text": [
      "+----------+--------------+----------+\n",
      "|  emp_name|emp_department|emp_salary|\n",
      "+----------+--------------+----------+\n",
      "|John Smith|            IT|     75000|\n",
      "|  Jane Doe|     Analytics|     60000|\n",
      "|Mike Brown|       Product|     90000|\n",
      "|Lisa Green|            HR|     85000|\n",
      "+----------+--------------+----------+\n",
      "\n"
     ]
    }
   ],
   "source": [
    "select_empDF.show()"
   ]
  },
  {
   "cell_type": "markdown",
   "metadata": {},
   "source": [
    "# 2. filter() Operator: \n",
    "The `filter()` operator is used to filter rows based on a condition.\n",
    " Filtering rows where the salary is greater than 70000"
   ]
  },
  {
   "cell_type": "code",
   "execution_count": null,
   "metadata": {},
   "outputs": [],
   "source": [
    "filtered_df = df.filter(df.emp_salary > 70000)\n",
    "\n",
    "filtered_df.show()\n"
   ]
  },
  {
   "cell_type": "code",
   "execution_count": 47,
   "metadata": {},
   "outputs": [],
   "source": [
    "filtered_empDF = select_empDF.filter((select_empDF.emp_salary>100000) || (select_empDF.emp_department=='IT'))"
   ]
  },
  {
   "cell_type": "code",
   "execution_count": 48,
   "metadata": {},
   "outputs": [
    {
     "name": "stdout",
     "output_type": "stream",
     "text": [
      "<class 'pyspark.sql.dataframe.DataFrame'>\n"
     ]
    }
   ],
   "source": [
    "print(type(filtered_empDF))"
   ]
  },
  {
   "cell_type": "code",
   "execution_count": 49,
   "metadata": {},
   "outputs": [
    {
     "name": "stdout",
     "output_type": "stream",
     "text": [
      "+--------+--------------+----------+\n",
      "|emp_name|emp_department|emp_salary|\n",
      "+--------+--------------+----------+\n",
      "+--------+--------------+----------+\n",
      "\n"
     ]
    }
   ],
   "source": [
    "filtered_empDF.show()"
   ]
  },
  {
   "cell_type": "markdown",
   "metadata": {},
   "source": [
    "# 3. groupBy() and agg() Operators:\n",
    "The `groupBy()` operator is used to group data based on specific columns, and the `agg()` operator is used to perform aggregate functions on grouped data."
   ]
  },
  {
   "cell_type": "code",
   "execution_count": 13,
   "metadata": {},
   "outputs": [
    {
     "name": "stdout",
     "output_type": "stream",
     "text": [
      "+------+----------+-----------------+----------+--------------+-------------+-------------+\n",
      "|emp_id|  emp_name|  emp_designation|emp_salary|emp_department|emp_join_date| emp_location|\n",
      "+------+----------+-----------------+----------+--------------+-------------+-------------+\n",
      "|   101|John Smith|Software Engineer|     75000|            IT|   15-01-2022|     New York|\n",
      "|   102|  Jane Doe|     Data Analyst|     60000|     Analytics|   20-08-2021|San Francisco|\n",
      "|   103|Mike Brown|  Product Manager|     90000|       Product|   10-05-2023|       London|\n",
      "|   104|Lisa Green|       HR Manager|     85000|            HR|   05-11-2020|         NULL|\n",
      "+------+----------+-----------------+----------+--------------+-------------+-------------+\n",
      "\n"
     ]
    }
   ],
   "source": [
    "empDF.show()"
   ]
  },
  {
   "cell_type": "code",
   "execution_count": 12,
   "metadata": {},
   "outputs": [
    {
     "name": "stdout",
     "output_type": "stream",
     "text": [
      "+--------------+----------+\n",
      "|emp_department|avg_salary|\n",
      "+--------------+----------+\n",
      "|            HR|   85000.0|\n",
      "|     Analytics|   60000.0|\n",
      "|            IT|   75000.0|\n",
      "|       Product|   90000.0|\n",
      "+--------------+----------+\n",
      "\n"
     ]
    }
   ],
   "source": [
    "from pyspark.sql import functions as F\n",
    "# Grouping data by department and calculating average salary\n",
    "grouped_df = df.groupBy(\"emp_department\").agg(F.avg(\"emp_salary\").alias(\"avg_salary\"))\n",
    "grouped_df.show()"
   ]
  },
  {
   "cell_type": "markdown",
   "metadata": {},
   "source": [
    "# 4. orderBy() Operator:\n",
    "The `orderBy()` operator is used to sort the DataFrame based on specified columns.\n",
    "Sorting the DataFrame by employee name in ascending order\n"
   ]
  },
  {
   "cell_type": "code",
   "execution_count": null,
   "metadata": {},
   "outputs": [],
   "source": [
    "sorted_df = df.orderBy(\"emp_name\")\n",
    "\n",
    "sorted_df.show()"
   ]
  },
  {
   "cell_type": "code",
   "execution_count": 56,
   "metadata": {},
   "outputs": [],
   "source": [
    "from pyspark.sql.functions import avg,min,max"
   ]
  },
  {
   "cell_type": "code",
   "execution_count": null,
   "metadata": {},
   "outputs": [],
   "source": [
    "#avg_salary, min_salary, max_salary"
   ]
  },
  {
   "cell_type": "code",
   "execution_count": 57,
   "metadata": {},
   "outputs": [
    {
     "name": "stdout",
     "output_type": "stream",
     "text": [
      "+---------------+\n",
      "|avg(emp_salary)|\n",
      "+---------------+\n",
      "|        77500.0|\n",
      "+---------------+\n",
      "\n"
     ]
    }
   ],
   "source": [
    "# df.select(avg(col(\"id\"))).show()\n",
    "avg_salary = empDF.select(avg(empDF.emp_salary)).show()"
   ]
  },
  {
   "cell_type": "code",
   "execution_count": 58,
   "metadata": {},
   "outputs": [
    {
     "name": "stdout",
     "output_type": "stream",
     "text": [
      "+---------------+\n",
      "|min(emp_salary)|\n",
      "+---------------+\n",
      "|          60000|\n",
      "+---------------+\n",
      "\n"
     ]
    }
   ],
   "source": [
    "min_salary = empDF.select(min(empDF.emp_salary)).show()"
   ]
  },
  {
   "cell_type": "code",
   "execution_count": 59,
   "metadata": {},
   "outputs": [
    {
     "name": "stdout",
     "output_type": "stream",
     "text": [
      "+---------------+\n",
      "|max(emp_salary)|\n",
      "+---------------+\n",
      "|          90000|\n",
      "+---------------+\n",
      "\n"
     ]
    }
   ],
   "source": [
    "max_salary = empDF.select(max(empDF.emp_salary)).show()"
   ]
  },
  {
   "cell_type": "code",
   "execution_count": null,
   "metadata": {},
   "outputs": [],
   "source": []
  }
 ],
 "metadata": {
  "kernelspec": {
   "display_name": "Python 3 (ipykernel)",
   "language": "python",
   "name": "python3"
  },
  "language_info": {
   "codemirror_mode": {
    "name": "ipython",
    "version": 3
   },
   "file_extension": ".py",
   "mimetype": "text/x-python",
   "name": "python",
   "nbconvert_exporter": "python",
   "pygments_lexer": "ipython3",
   "version": "3.12.1"
  }
 },
 "nbformat": 4,
 "nbformat_minor": 4
}
